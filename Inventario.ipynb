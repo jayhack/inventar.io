{
 "cells": [
  {
   "cell_type": "code",
   "execution_count": null,
   "metadata": {
    "collapsed": false
   },
   "outputs": [],
   "source": [
    "%load_ext autoreload\n",
    "%autoreload 2\n",
    "import datetime\n",
    "from inventario import Inventario\n",
    "from ivio_email import IvioEmail\n",
    "inventario = Inventario()"
   ]
  },
  {
   "cell_type": "markdown",
   "metadata": {},
   "source": [
    "#I. Parsing"
   ]
  },
  {
   "cell_type": "code",
   "execution_count": 90,
   "metadata": {
    "collapsed": false
   },
   "outputs": [],
   "source": [
    "body = \"\"\"\n",
    "@2019 day st.\n",
    "\n",
    "*glasses $10 #5 *comment\n",
    "*shirt # 2 $ 5\n",
    "*socks #1 $2\n",
    "---\n",
    "Jay Hack\n",
    "CS 2015\n",
    "jhack@stanford.edu\n",
    "----\n",
    "\"\"\"\n",
    "ivio_email = IvioEmail('jhack@stanford.edu', '', body, datetime.datetime.now())"
   ]
  },
  {
   "cell_type": "code",
   "execution_count": 92,
   "metadata": {
    "collapsed": false
   },
   "outputs": [
    {
     "data": {
      "text/plain": [
       "[{'address': '2019 day st.',\n",
       "  'date': datetime.datetime(2015, 5, 14, 13, 24, 41, 967676),\n",
       "  'name': 'glasses',\n",
       "  'price': 10.0,\n",
       "  'qty': 5,\n",
       "  'user': 'jhack@stanford.edu'},\n",
       " {'address': '2019 day st.',\n",
       "  'date': datetime.datetime(2015, 5, 14, 13, 24, 41, 967676),\n",
       "  'name': 'shirt',\n",
       "  'price': 5.0,\n",
       "  'qty': 2,\n",
       "  'user': 'jhack@stanford.edu'},\n",
       " {'address': '2019 day st.',\n",
       "  'date': datetime.datetime(2015, 5, 14, 13, 24, 41, 967676),\n",
       "  'name': 'socks',\n",
       "  'price': 2.0,\n",
       "  'qty': 1,\n",
       "  'user': 'jhack@stanford.edu'}]"
      ]
     },
     "execution_count": 92,
     "metadata": {},
     "output_type": "execute_result"
    }
   ],
   "source": [
    "ivio_email.items"
   ]
  },
  {
   "cell_type": "markdown",
   "metadata": {},
   "source": [
    "#III. Querying"
   ]
  },
  {
   "cell_type": "code",
   "execution_count": 4,
   "metadata": {
    "collapsed": false
   },
   "outputs": [],
   "source": [
    "result = inventario.handle_quiero_sub(quiero_sub)"
   ]
  }
 ],
 "metadata": {
  "kernelspec": {
   "display_name": "Python 2",
   "language": "python",
   "name": "python2"
  },
  "language_info": {
   "codemirror_mode": {
    "name": "ipython",
    "version": 2
   },
   "file_extension": ".py",
   "mimetype": "text/x-python",
   "name": "python",
   "nbconvert_exporter": "python",
   "pygments_lexer": "ipython2",
   "version": "2.7.9"
  }
 },
 "nbformat": 4,
 "nbformat_minor": 0
}
