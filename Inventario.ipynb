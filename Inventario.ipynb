{
 "cells": [
  {
   "cell_type": "code",
   "execution_count": 1,
   "metadata": {
    "collapsed": false
   },
   "outputs": [],
   "source": [
    "%load_ext autoreload\n",
    "%autoreload 2\n",
    "from inventario import Inventario\n",
    "from quiero import QuieroSub\n",
    "from tengo import TengoSub\n",
    "inventario = Inventario()"
   ]
  },
  {
   "cell_type": "markdown",
   "metadata": {},
   "source": [
    "#I. TengoSub"
   ]
  },
  {
   "cell_type": "code",
   "execution_count": 29,
   "metadata": {
    "collapsed": true
   },
   "outputs": [],
   "source": [
    "body = \"\"\"\n",
    "shoes / 69 / 1\n",
    "hat / 12 / 2\n",
    "scarf / 13 / 8\n",
    "\"\"\"\n",
    "tengo_sub = TengoSub('jhack@stanford.edu', 'from notebook', body)\n",
    "inventario.insert_tengo(tengo_sub)"
   ]
  },
  {
   "cell_type": "markdown",
   "metadata": {},
   "source": [
    "#II. QuieroSub"
   ]
  },
  {
   "cell_type": "code",
   "execution_count": 2,
   "metadata": {
    "collapsed": false
   },
   "outputs": [],
   "source": [
    "body = \"\"\"\n",
    "shoes\n",
    "hat\n",
    "scarf\n",
    "\"\"\"\n",
    "quiero_sub = QuieroSub('jhack@stanford.edu', 'from_notebook', body)\n",
    "inventario.insert_quiero(quiero_sub)"
   ]
  },
  {
   "cell_type": "markdown",
   "metadata": {},
   "source": [
    "#III. Querying"
   ]
  },
  {
   "cell_type": "code",
   "execution_count": 4,
   "metadata": {
    "collapsed": false
   },
   "outputs": [],
   "source": [
    "result = inventario.handle_quiero_sub(quiero_sub)"
   ]
  }
 ],
 "metadata": {
  "kernelspec": {
   "display_name": "Python 2",
   "language": "python",
   "name": "python2"
  },
  "language_info": {
   "codemirror_mode": {
    "name": "ipython",
    "version": 2
   },
   "file_extension": ".py",
   "mimetype": "text/x-python",
   "name": "python",
   "nbconvert_exporter": "python",
   "pygments_lexer": "ipython2",
   "version": "2.7.9"
  }
 },
 "nbformat": 4,
 "nbformat_minor": 0
}
