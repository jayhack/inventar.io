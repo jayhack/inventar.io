{
 "cells": [
  {
   "cell_type": "code",
   "execution_count": 1,
   "metadata": {
    "collapsed": false
   },
   "outputs": [],
   "source": [
    "%load_ext autoreload\n",
    "%autoreload 2\n",
    "from inventario import Inventario\n",
    "from quiero import QuieroSub\n",
    "from tengo import TengoSub\n",
    "inventario = Inventario()"
   ]
  },
  {
   "cell_type": "markdown",
   "metadata": {},
   "source": [
    "#I. Parsing"
   ]
  },
  {
   "cell_type": "code",
   "execution_count": 26,
   "metadata": {
    "collapsed": true
   },
   "outputs": [],
   "source": [
    "body = \"\"\"\n",
    "@2019 day st.\n",
    "\n",
    "*glasses $10 #5 *comment\n",
    "*shirt # 2 $ 5\n",
    "*socks #1 $2\n",
    "---\n",
    "Jay Hack\n",
    "CS 2015\n",
    "jhack@stanford.edu\n",
    "----\n",
    "\"\"\""
   ]
  },
  {
   "cell_type": "code",
   "execution_count": 80,
   "metadata": {
    "collapsed": false
   },
   "outputs": [
    {
     "name": "stdout",
     "output_type": "stream",
     "text": [
      "Address:  2019 day st.\n",
      "##### LINE:  *glasses $10 #5 *comment\n",
      "name:  glasses \n",
      "price:  10 \n",
      "qty:  5 \n",
      "##### LINE:  *shirt # 2 $ 5\n",
      "name:  shirt \n",
      "price:   5\n",
      "qty:   2 \n",
      "##### LINE:  *socks #1 $2\n",
      "name:  socks \n",
      "price:  2\n",
      "qty:  1 \n"
     ]
    }
   ],
   "source": [
    "#=====[ Step 1: address ]======\n",
    "address = re.findall(r'@(.*)[$#*\\n]', body)[0]\n",
    "print 'Address: ', address\n",
    "\n",
    "#=====[ Step 2: item lines ]=====\n",
    "item_lines = filter(lambda l: l.startswith('*'), body.split('\\n'))\n",
    "\n",
    "#=====[ Step 3: extract from item lines ]=====\n",
    "def make_extractor(sym):\n",
    "    base = '%s(.*?)'\n",
    "    end = '(\\$|\\#|\\*|$)'\n",
    "    match_str = (base + end) % sym\n",
    "    return lambda x: re.findall(match_str, x)[0][0]\n",
    "\n",
    "get_name = make_extractor('\\*')\n",
    "get_qty = make_extractor('\\#')\n",
    "get_price = make_extractor('\\$')\n",
    "\n",
    "for line in item_lines:\n",
    "    print '##### LINE: ', line\n",
    "    print 'name: ', get_name(line)\n",
    "    print 'price: ', get_price(line)    \n",
    "    print 'qty: ', get_qty(line)"
   ]
  },
  {
   "cell_type": "code",
   "execution_count": 65,
   "metadata": {
    "collapsed": false
   },
   "outputs": [
    {
     "data": {
      "text/plain": [
       "['', 'socks ', '1 ', '2']"
      ]
     },
     "execution_count": 65,
     "metadata": {},
     "output_type": "execute_result"
    }
   ],
   "source": [
    "re.split(r'[\\*\\$\\#]', line)"
   ]
  },
  {
   "cell_type": "markdown",
   "metadata": {},
   "source": [
    "#I. TengoSub"
   ]
  },
  {
   "cell_type": "code",
   "execution_count": 29,
   "metadata": {
    "collapsed": true
   },
   "outputs": [],
   "source": [
    "body = \"\"\"\n",
    "shoes / 69 / 1\n",
    "hat / 12 / 2\n",
    "scarf / 13 / 8\n",
    "\"\"\"\n",
    "tengo_sub = TengoSub('jhack@stanford.edu', 'from notebook', body)\n",
    "inventario.insert_tengo(tengo_sub)"
   ]
  },
  {
   "cell_type": "markdown",
   "metadata": {},
   "source": [
    "#II. QuieroSub"
   ]
  },
  {
   "cell_type": "code",
   "execution_count": 2,
   "metadata": {
    "collapsed": false
   },
   "outputs": [],
   "source": [
    "body = \"\"\"\n",
    "shoes\n",
    "hat\n",
    "scarf\n",
    "\"\"\"\n",
    "quiero_sub = QuieroSub('jhack@stanford.edu', 'from_notebook', body)\n",
    "inventario.insert_quiero(quiero_sub)"
   ]
  },
  {
   "cell_type": "markdown",
   "metadata": {},
   "source": [
    "#III. Querying"
   ]
  },
  {
   "cell_type": "code",
   "execution_count": 4,
   "metadata": {
    "collapsed": false
   },
   "outputs": [],
   "source": [
    "result = inventario.handle_quiero_sub(quiero_sub)"
   ]
  }
 ],
 "metadata": {
  "kernelspec": {
   "display_name": "Python 2",
   "language": "python",
   "name": "python2"
  },
  "language_info": {
   "codemirror_mode": {
    "name": "ipython",
    "version": 2
   },
   "file_extension": ".py",
   "mimetype": "text/x-python",
   "name": "python",
   "nbconvert_exporter": "python",
   "pygments_lexer": "ipython2",
   "version": "2.7.9"
  }
 },
 "nbformat": 4,
 "nbformat_minor": 0
}
